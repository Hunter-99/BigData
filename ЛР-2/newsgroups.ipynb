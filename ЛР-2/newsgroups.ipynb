{
 "cells": [
  {
   "cell_type": "markdown",
   "metadata": {},
   "source": [
    "# 20 Newsgroups"
   ]
  },
  {
   "cell_type": "code",
   "execution_count": 3,
   "metadata": {},
   "outputs": [
    {
     "ename": "ModuleNotFoundError",
     "evalue": "No module named 'daal'",
     "output_type": "error",
     "traceback": [
      "\u001b[0;31m---------------------------------------------------------------------------\u001b[0m",
      "\u001b[0;31mModuleNotFoundError\u001b[0m                       Traceback (most recent call last)",
      "\u001b[1;32m/home/andrew/My projects/BigData/ЛР-2/newsgroups.ipynb Cell 2'\u001b[0m in \u001b[0;36m<cell line: 5>\u001b[0;34m()\u001b[0m\n\u001b[1;32m      <a href='vscode-notebook-cell:/home/andrew/My%20projects/BigData/%D0%9B%D0%A0-2/newsgroups.ipynb#ch0000000?line=2'>3</a>\u001b[0m \u001b[39mfrom\u001b[39;00m \u001b[39msklearn\u001b[39;00m\u001b[39m.\u001b[39;00m\u001b[39mdecomposition\u001b[39;00m \u001b[39mimport\u001b[39;00m TruncatedSVD\n\u001b[1;32m      <a href='vscode-notebook-cell:/home/andrew/My%20projects/BigData/%D0%9B%D0%A0-2/newsgroups.ipynb#ch0000000?line=3'>4</a>\u001b[0m \u001b[39mfrom\u001b[39;00m \u001b[39msklearn\u001b[39;00m\u001b[39m.\u001b[39;00m\u001b[39mdatasets\u001b[39;00m \u001b[39mimport\u001b[39;00m fetch_20newsgroups_vectorized\n\u001b[0;32m----> <a href='vscode-notebook-cell:/home/andrew/My%20projects/BigData/%D0%9B%D0%A0-2/newsgroups.ipynb#ch0000000?line=4'>5</a>\u001b[0m \u001b[39mfrom\u001b[39;00m \u001b[39mdaal\u001b[39;00m\u001b[39m.\u001b[39;00m\u001b[39malgorithms\u001b[39;00m\u001b[39m.\u001b[39;00m\u001b[39msvd\u001b[39;00m \u001b[39mimport\u001b[39;00m Batch, data, singularValues, rightSingularMatrix, leftSingularMatrix\n\u001b[1;32m      <a href='vscode-notebook-cell:/home/andrew/My%20projects/BigData/%D0%9B%D0%A0-2/newsgroups.ipynb#ch0000000?line=5'>6</a>\u001b[0m \u001b[39mfrom\u001b[39;00m \u001b[39mdaal\u001b[39;00m\u001b[39m.\u001b[39;00m\u001b[39mdata_management\u001b[39;00m \u001b[39mimport\u001b[39;00m HomogenNumericTable, BlockDescriptor_Float64, readOnly\n\u001b[1;32m      <a href='vscode-notebook-cell:/home/andrew/My%20projects/BigData/%D0%9B%D0%A0-2/newsgroups.ipynb#ch0000000?line=7'>8</a>\u001b[0m \u001b[39mimport\u001b[39;00m \u001b[39mtime\u001b[39;00m\n",
      "\u001b[0;31mModuleNotFoundError\u001b[0m: No module named 'daal'"
     ]
    }
   ],
   "source": [
    "import numpy as np\n",
    "from matplotlib import pyplot as plt\n",
    "from sklearn.decomposition import TruncatedSVD\n",
    "from sklearn.datasets import fetch_20newsgroups_vectorized\n",
    "from daal.algorithms.svd import Batch, data, singularValues, rightSingularMatrix, leftSingularMatrix\n",
    "from daal.data_management import HomogenNumericTable, BlockDescriptor_Float64, readOnly\n",
    "\n",
    "import time"
   ]
  },
  {
   "cell_type": "code",
   "execution_count": null,
   "metadata": {},
   "outputs": [],
   "source": [
    "# Данная функция переводит из NumericTable в numpy array\n",
    "\n",
    "def getArrayFromNT(table, nrows=0):\n",
    "\n",
    "    bd = BlockDescriptor_Float64()\n",
    "\n",
    "    if nrows == 0:\n",
    "        nrows = table.getNumberOfRows()\n",
    "\n",
    "    table.getBlockOfRows(0, nrows, readOnly, bd)\n",
    "    npa = bd.getArray()\n",
    "    table.releaseBlockOfRows(bd)\n",
    "\n",
    "    return npa\n",
    "\n",
    "# Вывод NumericTable в консоль\n",
    "\n",
    "def printNT(table, nrows = 0, message=''):\n",
    "    npa = getArrayFromNT(table, nrows)\n",
    "    print(message, \"\\n\", npa)"
   ]
  },
  {
   "cell_type": "markdown",
   "metadata": {},
   "source": [
    "## Решение в scikit-learn"
   ]
  },
  {
   "cell_type": "code",
   "execution_count": null,
   "metadata": {},
   "outputs": [
    {
     "name": "stdout",
     "output_type": "stream",
     "text": [
      "Размерность данных \n",
      " <class 'scipy.sparse._csr.csr_matrix'> \n",
      "\n"
     ]
    }
   ],
   "source": [
    "newsgroups = fetch_20newsgroups_vectorized(subset='train', remove = ('headers', 'footers', 'quotes'))\n",
    "\n",
    "# Размерность данных\n",
    "print(\"Размерность данных \\n\", newsgroups.data, \"\\n\")\n",
    "# Применяем SVD к данным\n",
    "svd = TruncatedSVD(n_components = 3000, algorithm = \"randomized\")\n",
    "\n",
    "t = time.process_time()\n",
    "svd.fit(newsgroups.data)\n",
    "t = time.process_time() - t\n",
    "\n",
    "# Доля объясненной вариации\n",
    "print(\" Доля объясненной вариации \\n\", svd.explained_variance_ratio_.sum(), \"\\n\")\n",
    "# График роста доли объясненной вариации\n",
    "var_nwsd = np.round(np.cumsum(svd.explained_variance_ratio_), decimals=4)\n",
    "plt.plot(np.arange(1,3001), var_nwsd)\n",
    "plt.ylabel('Variation')\n",
    "plt.xlabel('Number of PC')\n",
    "\n",
    "# Время выполнения\n",
    "print(\"Время выполнения (секунд) \\n\", t, \"\\n\")"
   ]
  },
  {
   "cell_type": "markdown",
   "metadata": {},
   "source": [
    "## Решение в pyDAAL"
   ]
  },
  {
   "cell_type": "code",
   "execution_count": null,
   "metadata": {},
   "outputs": [],
   "source": [
    "# Транспонируем матрицу данных и переводим из sparse в dense\n",
    "\n",
    "nwsd = newsgroups.data\n",
    "nwsd = nwsd.transpose()\n",
    "nwsd_dense = nwsd.toarray()\n",
    "\n",
    "print(\"Размерность данных \\n\", nwsd_dense.shape, \"\\n\")\n",
    "# Перевод в NumericTable\n",
    "nwsd_dense_nt = HomogenNumericTable(nwsd_dense)\n",
    "# Выполнение SVD\n",
    "algorithm = Batch()\n",
    "algorithm.input.set(data, nwsd_dense_nt)\n",
    "\n",
    "t = time.process_time()\n",
    "result = algorithm.compute()\n",
    "t = time.process_time() - t\n",
    "\n",
    "# Доля объясненной вариации\n",
    "ev = np.square(getArrayFromNT(result.get(singularValues)))\n",
    "var_all = ev.sum()\n",
    "var = ev/var_all\n",
    "var_explained = np.round(np.cumsum(var), decimals=4)\n",
    "\n",
    "print(\" Доля объясненной вариации \\n\", var_explained[2999].sum(), \"\\n\")\n",
    "\n",
    "plt.plot(np.arange(1,3000), var_explained[0:2999])\n",
    "plt.ylabel('Variation')\n",
    "plt.xlabel('Number of PC')\n",
    "\n",
    "# Время выполнения\n",
    "print(\"Время выполнения (секунд) \\n\", t, \"\\n\")"
   ]
  }
 ],
 "metadata": {
  "interpreter": {
   "hash": "af786d0908657ef0c5f68026fa9eecfa8d82a91416fc77750c46a154f53d3341"
  },
  "kernelspec": {
   "display_name": "Python 3.9.7 ('venv': venv)",
   "language": "python",
   "name": "python3"
  },
  "language_info": {
   "codemirror_mode": {
    "name": "ipython",
    "version": 3
   },
   "file_extension": ".py",
   "mimetype": "text/x-python",
   "name": "python",
   "nbconvert_exporter": "python",
   "pygments_lexer": "ipython3",
   "version": "3.9.7"
  },
  "orig_nbformat": 4
 },
 "nbformat": 4,
 "nbformat_minor": 2
}
