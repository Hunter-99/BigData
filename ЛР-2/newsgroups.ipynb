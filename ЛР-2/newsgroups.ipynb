{
 "cells": [
  {
   "cell_type": "markdown",
   "metadata": {
    "pycharm": {
     "name": "#%% md\n"
    }
   },
   "source": []
  },
  {
   "cell_type": "code",
   "execution_count": 1,
   "metadata": {
    "pycharm": {
     "name": "#%%\n"
    }
   },
   "outputs": [],
   "source": [
    "import time\n",
    "\n",
    "import numpy as np\n",
    "import matplotlib.pyplot as plt\n",
    "from sklearn.decomposition import TruncatedSVD\n",
    "from sklearn.datasets import fetch_20newsgroups_vectorized"
   ]
  },
  {
   "cell_type": "markdown",
   "metadata": {
    "pycharm": {
     "name": "#%% md\n"
    }
   },
   "source": [
    "## Решение в scikit-learn"
   ]
  },
  {
   "cell_type": "code",
   "execution_count": 2,
   "metadata": {
    "pycharm": {
     "name": "#%%\n"
    }
   },
   "outputs": [
    {
     "name": "stdout",
     "output_type": "stream",
     "text": [
      "Размерность данных \n",
      "   (0, 2939)\t0.019153011712702294\n",
      "  (0, 3269)\t0.019153011712702294\n",
      "  (0, 3417)\t0.019153011712702294\n",
      "  (0, 3418)\t0.019153011712702294\n",
      "  (0, 3427)\t0.019153011712702294\n",
      "  (0, 3429)\t0.019153011712702294\n",
      "  (0, 3453)\t0.019153011712702294\n",
      "  (0, 6045)\t0.019153011712702294\n",
      "  (0, 7883)\t0.019153011712702294\n",
      "  (0, 8722)\t0.019153011712702294\n",
      "  (0, 8818)\t0.019153011712702294\n",
      "  (0, 9022)\t0.019153011712702294\n",
      "  (0, 9963)\t0.019153011712702294\n",
      "  (0, 16939)\t0.019153011712702294\n",
      "  (0, 17426)\t0.019153011712702294\n",
      "  (0, 17936)\t0.019153011712702294\n",
      "  (0, 18110)\t0.019153011712702294\n",
      "  (0, 18305)\t0.019153011712702294\n",
      "  (0, 18408)\t0.05745903513810688\n",
      "  (0, 18521)\t0.4213662576794504\n",
      "  (0, 18755)\t0.03830602342540459\n",
      "  (0, 18903)\t0.019153011712702294\n",
      "  (0, 19443)\t0.07661204685080918\n",
      "  (0, 19476)\t0.019153011712702294\n",
      "  (0, 19576)\t0.019153011712702294\n",
      "  :\t:\n",
      "  (11313, 77024)\t0.07216878364870323\n",
      "  (11313, 78397)\t0.14433756729740646\n",
      "  (11313, 82056)\t0.07216878364870323\n",
      "  (11313, 82330)\t0.07216878364870323\n",
      "  (11313, 83666)\t0.14433756729740646\n",
      "  (11313, 83878)\t0.07216878364870323\n",
      "  (11313, 86530)\t0.07216878364870323\n",
      "  (11313, 88519)\t0.2886751345948129\n",
      "  (11313, 88532)\t0.2886751345948129\n",
      "  (11313, 88819)\t0.14433756729740646\n",
      "  (11313, 89092)\t0.07216878364870323\n",
      "  (11313, 89360)\t0.43301270189221935\n",
      "  (11313, 89636)\t0.07216878364870323\n",
      "  (11313, 91833)\t0.07216878364870323\n",
      "  (11313, 92876)\t0.07216878364870323\n",
      "  (11313, 94152)\t0.07216878364870323\n",
      "  (11313, 95763)\t0.07216878364870323\n",
      "  (11313, 96219)\t0.07216878364870323\n",
      "  (11313, 96247)\t0.07216878364870323\n",
      "  (11313, 96917)\t0.14433756729740646\n",
      "  (11313, 99911)\t0.07216878364870323\n",
      "  (11313, 99957)\t0.07216878364870323\n",
      "  (11313, 100208)\t0.14433756729740646\n",
      "  (11313, 100221)\t0.07216878364870323\n",
      "  (11313, 100235)\t0.07216878364870323 \n",
      "\n",
      " Доля объясненной вариации \n",
      " 0.9044051266071523 \n",
      "\n",
      "Время выполнения (секунд) \n",
      "1410.140625\n",
      "\n"
     ]
    },
    {
     "data": {
      "image/png": "[encoded data removed]",
      "text/plain": [
       "<Figure size 432x288 with 1 Axes>"
      ]
     },
     "metadata": {
      "needs_background": "light"
     },
     "output_type": "display_data"
    }
   ],
   "source": [
    "\n",
    "newsgroups = fetch_20newsgroups_vectorized(subset='train', remove = ('headers', 'footers', 'quotes'))\n",
    "\n",
    "# Размерность данных\n",
    "print(\"Размерность данных \\n\", newsgroups.data, \"\\n\")\n",
    "# Применяем SVD к данным\n",
    "svd = TruncatedSVD(n_components = 3000, algorithm = \"randomized\")\n",
    "\n",
    "t = time.process_time()\n",
    "svd.fit(newsgroups.data)\n",
    "t = time.process_time() - t\n",
    "\n",
    "# Доля объясненной вариации\n",
    "print(\" Доля объясненной вариации \\n\", svd.explained_variance_ratio_.sum(), \"\\n\")\n",
    "# График роста доли объясненной вариации\n",
    "var_nwsd = np.round(np.cumsum(svd.explained_variance_ratio_), decimals=4)\n",
    "\n",
    "plt.plot(np.arange(1,3001), var_nwsd)\n",
    "plt.ylabel('Variation')\n",
    "plt.xlabel('Number of PC')\n",
    "# Время выполнения\n",
    "print(f\"Время выполнения (секунд) \\n{t}\\n\")"
   ]
  }
 ],
 "metadata": {
  "interpreter": {
   "hash": "af786d0908657ef0c5f68026fa9eecfa8d82a91416fc77750c46a154f53d3341"
  },
  "kernelspec": {
   "display_name": "Python 3.9.7 ('venv': venv)",
   "language": "python",
   "name": "python3"
  },
  "language_info": {
   "codemirror_mode": {
    "name": "ipython",
    "version": 3
   },
   "file_extension": ".py",
   "mimetype": "text/x-python",
   "name": "python",
   "nbconvert_exporter": "python",
   "pygments_lexer": "ipython3",
   "version": "3.9.12"
  },
  "orig_nbformat": 4
 },
 "nbformat": 4,
 "nbformat_minor": 2
}
